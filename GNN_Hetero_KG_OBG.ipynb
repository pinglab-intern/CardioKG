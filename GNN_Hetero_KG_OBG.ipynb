{
  "nbformat": 4,
  "nbformat_minor": 0,
  "metadata": {
    "colab": {
      "name": "GNN-Hetero-KG-OBG.ipynb",
      "provenance": [],
      "collapsed_sections": [],
      "machine_shape": "hm"
    },
    "kernelspec": {
      "name": "python3",
      "display_name": "Python 3"
    },
    "language_info": {
      "name": "python"
    },
    "accelerator": "GPU",
    "gpuClass": "standard"
  },
  "cells": [
    {
      "cell_type": "code",
      "execution_count": 1,
      "metadata": {
        "colab": {
          "base_uri": "https://localhost:8080/"
        },
        "id": "B-9gIznUF_ME",
        "outputId": "5b2c5365-1662-47a9-bb95-fef8b5c0e025"
      },
      "outputs": [
        {
          "output_type": "stream",
          "name": "stdout",
          "text": [
            "1.11.0+cu113\n"
          ]
        }
      ],
      "source": [
        "# Install required packages.\n",
        "import os\n",
        "import torch\n",
        "os.environ['TORCH'] = torch.__version__\n",
        "print(torch.__version__)\n",
        "from tqdm import tqdm, trange"
      ]
    },
    {
      "cell_type": "code",
      "source": [
        "#!pip install torch-scatter torch-sparse torch-cluster torch-spline-conv torch-geometric -f https://data.pyg.org/whl/torch-1.11.0+cpu.html"
      ],
      "metadata": {
        "id": "iDC3VfJViDfD"
      },
      "execution_count": 3,
      "outputs": []
    },
    {
      "cell_type": "code",
      "source": [
        "import numpy as np\n",
        "import torch\n",
        "from torch_geometric.data import HeteroData\n",
        "import torch_geometric.transforms as T\n",
        "from torch_geometric.nn import Sequential, Linear\n",
        "from torch.nn import ReLU\n",
        "from torch_geometric.datasets import OGB_MAG\n",
        "from torch_geometric.nn import SAGEConv, to_hetero\n",
        "from torch_geometric.loader import NeighborLoader, HGTLoader\n",
        "from torch.nn import Linear\n",
        "import torch.nn.functional as F\n",
        "from torch_geometric.nn import GCNConv #GATConv"
      ],
      "metadata": {
        "id": "3_rmmmZSGQGY"
      },
      "execution_count": 4,
      "outputs": []
    },
    {
      "cell_type": "code",
      "source": [
        "dataset = OGB_MAG(root='./data', preprocess='metapath2vec', transform=T.ToUndirected())\n",
        "data = dataset[0]"
      ],
      "metadata": {
        "colab": {
          "base_uri": "https://localhost:8080/"
        },
        "id": "qZ9zUbSP8j8y",
        "outputId": "48008a0a-f1a7-4908-b4b6-46bf4b568daa"
      },
      "execution_count": 5,
      "outputs": [
        {
          "output_type": "stream",
          "name": "stderr",
          "text": [
            "Downloading http://snap.stanford.edu/ogb/data/nodeproppred/mag.zip\n",
            "Extracting data/mag/raw/mag.zip\n",
            "Downloading https://data.pyg.org/datasets/mag_metapath2vec_emb.zip\n",
            "Extracting data/mag/raw/mag_metapath2vec_emb.zip\n",
            "Processing...\n",
            "Done!\n"
          ]
        }
      ]
    },
    {
      "cell_type": "code",
      "source": [
        "class GNN(torch.nn.Module):\n",
        "    def __init__(self, hidden_channels, out_channels):\n",
        "        super().__init__()\n",
        "        self.conv1 = SAGEConv((-1, -1), hidden_channels)\n",
        "        self.conv2 = SAGEConv((-1, -1), out_channels)\n",
        "\n",
        "    def forward(self, x, edge_index):\n",
        "        x = self.conv1(x, edge_index).relu()\n",
        "        x = self.conv2(x, edge_index)\n",
        "        return x\n",
        "\n",
        "\n",
        "model = GNN(hidden_channels=64, out_channels=dataset.num_classes)\n",
        "model = to_hetero(model, data.metadata(), aggr='sum')"
      ],
      "metadata": {
        "id": "X8PUY3ZHIhku"
      },
      "execution_count": 6,
      "outputs": []
    },
    {
      "cell_type": "code",
      "source": [
        "data.metadata()"
      ],
      "metadata": {
        "colab": {
          "base_uri": "https://localhost:8080/"
        },
        "id": "WkW_Ym58DHkE",
        "outputId": "7abcd476-c440-4cbb-fae6-b8cb5c2b1660"
      },
      "execution_count": 7,
      "outputs": [
        {
          "output_type": "execute_result",
          "data": {
            "text/plain": [
              "(['paper', 'author', 'institution', 'field_of_study'],\n",
              " [('author', 'affiliated_with', 'institution'),\n",
              "  ('author', 'writes', 'paper'),\n",
              "  ('paper', 'cites', 'paper'),\n",
              "  ('paper', 'has_topic', 'field_of_study'),\n",
              "  ('institution', 'rev_affiliated_with', 'author'),\n",
              "  ('paper', 'rev_writes', 'author'),\n",
              "  ('field_of_study', 'rev_has_topic', 'paper')])"
            ]
          },
          "metadata": {},
          "execution_count": 7
        }
      ]
    },
    {
      "cell_type": "code",
      "source": [
        "data"
      ],
      "metadata": {
        "colab": {
          "base_uri": "https://localhost:8080/"
        },
        "id": "vHi3fYkvKFwK",
        "outputId": "7497e392-6ba9-4fef-b4e3-06ab6b08ebe3"
      },
      "execution_count": 15,
      "outputs": [
        {
          "output_type": "execute_result",
          "data": {
            "text/plain": [
              "HeteroData(\n",
              "  \u001b[1mpaper\u001b[0m={\n",
              "    x=[736389, 128],\n",
              "    year=[736389],\n",
              "    y=[736389],\n",
              "    train_mask=[736389],\n",
              "    val_mask=[736389],\n",
              "    test_mask=[736389]\n",
              "  },\n",
              "  \u001b[1mauthor\u001b[0m={ x=[1134649, 128] },\n",
              "  \u001b[1minstitution\u001b[0m={ x=[8740, 128] },\n",
              "  \u001b[1mfield_of_study\u001b[0m={ x=[59965, 128] },\n",
              "  \u001b[1m(author, affiliated_with, institution)\u001b[0m={ edge_index=[2, 1043998] },\n",
              "  \u001b[1m(author, writes, paper)\u001b[0m={ edge_index=[2, 7145660] },\n",
              "  \u001b[1m(paper, cites, paper)\u001b[0m={ edge_index=[2, 10792672] },\n",
              "  \u001b[1m(paper, has_topic, field_of_study)\u001b[0m={ edge_index=[2, 7505078] },\n",
              "  \u001b[1m(institution, rev_affiliated_with, author)\u001b[0m={ edge_index=[2, 1043998] },\n",
              "  \u001b[1m(paper, rev_writes, author)\u001b[0m={ edge_index=[2, 7145660] },\n",
              "  \u001b[1m(field_of_study, rev_has_topic, paper)\u001b[0m={ edge_index=[2, 7505078] }\n",
              ")"
            ]
          },
          "metadata": {},
          "execution_count": 15
        }
      ]
    },
    {
      "cell_type": "code",
      "source": [
        "model"
      ],
      "metadata": {
        "colab": {
          "base_uri": "https://localhost:8080/"
        },
        "id": "RETww02xPTSa",
        "outputId": "2388927a-7325-410f-96b8-d6eee0ff6f62"
      },
      "execution_count": 8,
      "outputs": [
        {
          "output_type": "execute_result",
          "data": {
            "text/plain": [
              "GraphModule(\n",
              "  (conv1): ModuleDict(\n",
              "    (author__affiliated_with__institution): SAGEConv((-1, -1), 64)\n",
              "    (author__writes__paper): SAGEConv((-1, -1), 64)\n",
              "    (paper__cites__paper): SAGEConv((-1, -1), 64)\n",
              "    (paper__has_topic__field_of_study): SAGEConv((-1, -1), 64)\n",
              "    (institution__rev_affiliated_with__author): SAGEConv((-1, -1), 64)\n",
              "    (paper__rev_writes__author): SAGEConv((-1, -1), 64)\n",
              "    (field_of_study__rev_has_topic__paper): SAGEConv((-1, -1), 64)\n",
              "  )\n",
              "  (conv2): ModuleDict(\n",
              "    (author__affiliated_with__institution): SAGEConv((-1, -1), 349)\n",
              "    (author__writes__paper): SAGEConv((-1, -1), 349)\n",
              "    (paper__cites__paper): SAGEConv((-1, -1), 349)\n",
              "    (paper__has_topic__field_of_study): SAGEConv((-1, -1), 349)\n",
              "    (institution__rev_affiliated_with__author): SAGEConv((-1, -1), 349)\n",
              "    (paper__rev_writes__author): SAGEConv((-1, -1), 349)\n",
              "    (field_of_study__rev_has_topic__paper): SAGEConv((-1, -1), 349)\n",
              "  )\n",
              ")"
            ]
          },
          "metadata": {},
          "execution_count": 8
        }
      ]
    },
    {
      "cell_type": "code",
      "source": [
        "# Use GPU\n",
        "#device = torch.device(\"cpu\")\n",
        "device = torch.device(\"cuda:0\" if torch.cuda.is_available() else \"cpu\")\n",
        "\n",
        "model = model.to(device)\n",
        "data = data.to(device)\n",
        "\n",
        "# Initialize Optimizer\n",
        "learning_rate = 0.01\n",
        "decay = 5e-4\n",
        "optimizer = torch.optim.Adam(model.parameters(), \n",
        "                             lr=learning_rate, \n",
        "                             weight_decay=decay)\n",
        "# Define loss function (CrossEntropyLoss for Classification Problems with \n",
        "# probability distributions)\n",
        "#criterion = torch.nn.CrossEntropyLoss()"
      ],
      "metadata": {
        "id": "fxhvm-r2maH4"
      },
      "execution_count": 11,
      "outputs": []
    },
    {
      "cell_type": "code",
      "source": [
        "def train():\n",
        "      model.train()\n",
        "      optimizer.zero_grad() \n",
        "      # Use all data as input, because all nodes have node features\n",
        "      out = model(data.x_dict, data.edge_index_dict)  \n",
        "      # Only use nodes with labels available for loss calculation --> mask\n",
        "      mask = data['paper'].train_mask\n",
        "      loss = F.cross_entropy(out['paper'][mask], data['paper'].y[mask])\n",
        "      loss.backward() \n",
        "      optimizer.step()\n",
        "      return loss\n",
        "\n",
        "def test():\n",
        "      model.eval()\n",
        "      out = model(data.x, data.edge_index)\n",
        "      # Use the class with highest probability.\n",
        "      pred = out.argmax(dim=1)  \n",
        "      # Check against ground-truth labels.\n",
        "      test_correct = pred[data.test_mask] == data.y[data.test_mask]  \n",
        "      # Derive ratio of correct predictions.\n",
        "      test_acc = int(test_correct.sum()) / int(data.test_mask.sum())  \n",
        "      return test_acc"
      ],
      "metadata": {
        "id": "coV8gekfJAeT"
      },
      "execution_count": 12,
      "outputs": []
    },
    {
      "cell_type": "code",
      "source": [
        "losses = []\n",
        "for epoch in range(0, 20):\n",
        "    loss = train()\n",
        "    losses.append(loss)\n",
        "    print(f'Epoch: {epoch:03d}, Loss: {loss:.4f}')"
      ],
      "metadata": {
        "colab": {
          "base_uri": "https://localhost:8080/"
        },
        "id": "snpjrj8zJAia",
        "outputId": "9c1f941c-1ceb-4e67-e2c8-88bd2c670906"
      },
      "execution_count": 14,
      "outputs": [
        {
          "output_type": "stream",
          "name": "stdout",
          "text": [
            "Epoch: 000, Loss: 3.3653\n",
            "Epoch: 001, Loss: 3.2315\n",
            "Epoch: 002, Loss: 3.1098\n",
            "Epoch: 003, Loss: 3.0121\n",
            "Epoch: 004, Loss: 2.9300\n",
            "Epoch: 005, Loss: 2.8586\n",
            "Epoch: 006, Loss: 2.8009\n",
            "Epoch: 007, Loss: 2.7534\n",
            "Epoch: 008, Loss: 2.7079\n",
            "Epoch: 009, Loss: 2.6704\n",
            "Epoch: 010, Loss: 2.6368\n",
            "Epoch: 011, Loss: 2.6024\n",
            "Epoch: 012, Loss: 2.5728\n",
            "Epoch: 013, Loss: 2.5452\n",
            "Epoch: 014, Loss: 2.5205\n",
            "Epoch: 015, Loss: 2.4997\n",
            "Epoch: 016, Loss: 2.4820\n",
            "Epoch: 017, Loss: 2.4640\n",
            "Epoch: 018, Loss: 2.4457\n",
            "Epoch: 019, Loss: 2.4255\n"
          ]
        }
      ]
    },
    {
      "cell_type": "code",
      "source": [
        "device"
      ],
      "metadata": {
        "colab": {
          "base_uri": "https://localhost:8080/"
        },
        "id": "z2M2QzQi6FNR",
        "outputId": "44e3f112-e35f-4ded-ccd1-08192247d172"
      },
      "execution_count": null,
      "outputs": [
        {
          "output_type": "execute_result",
          "data": {
            "text/plain": [
              "device(type='cuda', index=0)"
            ]
          },
          "metadata": {},
          "execution_count": 29
        }
      ]
    },
    {
      "cell_type": "code",
      "source": [
        "data.x_dict"
      ],
      "metadata": {
        "colab": {
          "base_uri": "https://localhost:8080/"
        },
        "id": "W1wLi-YX9qi0",
        "outputId": "228c8523-82e6-487c-d464-41691ca4261f"
      },
      "execution_count": null,
      "outputs": [
        {
          "output_type": "execute_result",
          "data": {
            "text/plain": [
              "{'author': tensor([[-0.4683,  0.1084, -0.0180,  ..., -0.2873,  0.3973,  0.0373],\n",
              "         [ 0.1035, -0.3703, -0.3722,  ...,  0.5777,  0.0044, -0.3645],\n",
              "         [ 0.3745,  0.0797,  0.3995,  ...,  0.0166, -0.5806, -0.1265],\n",
              "         ...,\n",
              "         [-0.0076,  0.6291,  0.0684,  ...,  0.0279,  0.1603, -0.0225],\n",
              "         [ 0.1657, -0.1814,  0.2352,  ..., -0.4000, -0.4608, -0.7904],\n",
              "         [-0.4098,  0.0470, -0.2027,  ...,  0.1393, -0.1985, -0.6175]],\n",
              "        device='cuda:0'),\n",
              " 'field_of_study': tensor([[ 1.7532e-02, -3.0144e-01,  3.2530e-01,  ..., -1.6283e-01,\n",
              "          -1.3862e-01,  3.3216e-01],\n",
              "         [-5.3028e-01,  1.5095e-01, -1.2914e-01,  ...,  7.6167e-02,\n",
              "           3.0035e-01, -1.5220e-02],\n",
              "         [-7.1854e-01,  6.7117e-04, -4.1465e-01,  ..., -1.5486e-01,\n",
              "          -4.1101e-01, -6.1223e-01],\n",
              "         ...,\n",
              "         [-3.1354e-01,  8.0473e-01,  9.4273e-02,  ..., -3.2736e-01,\n",
              "           7.9512e-01, -5.7828e-02],\n",
              "         [-5.5001e-01,  1.7064e-01, -3.7380e-01,  ..., -2.2461e-01,\n",
              "          -4.1444e-02,  3.8327e-01],\n",
              "         [ 7.9902e-02, -2.2594e-01, -2.3080e-01,  ..., -3.6825e-01,\n",
              "          -9.1278e-02, -3.0853e-01]], device='cuda:0'),\n",
              " 'institution': tensor([[ 0.9148, -0.4798, -0.5734,  ...,  0.5746,  0.0610,  0.4985],\n",
              "         [-0.5284, -0.1968,  0.5510,  ..., -0.5377,  0.1137,  0.2736],\n",
              "         [-0.0787, -0.1944,  0.1080,  ..., -0.1358,  0.1673, -0.0555],\n",
              "         ...,\n",
              "         [-0.0096,  0.0170,  0.1484,  ..., -0.1231,  0.1940, -0.4358],\n",
              "         [-0.5490, -0.2248, -0.0336,  ...,  0.0878,  0.2260, -0.0637],\n",
              "         [ 0.7806, -0.3770,  0.2447,  ...,  0.0272,  0.1601,  0.1370]],\n",
              "        device='cuda:0'),\n",
              " 'paper': tensor([[-0.0954,  0.0408, -0.2109,  ...,  0.0616, -0.0277, -0.1338],\n",
              "         [-0.1510, -0.1073, -0.2220,  ...,  0.3458, -0.0277, -0.2185],\n",
              "         [-0.1148, -0.1760, -0.2606,  ...,  0.1731, -0.1564, -0.2780],\n",
              "         ...,\n",
              "         [ 0.0228, -0.0865,  0.0981,  ..., -0.0547, -0.2077, -0.2305],\n",
              "         [-0.2891, -0.2029, -0.1525,  ...,  0.1042,  0.2041, -0.3528],\n",
              "         [-0.0890, -0.0348, -0.2642,  ...,  0.2601, -0.0875, -0.5171]],\n",
              "        device='cuda:0')}"
            ]
          },
          "metadata": {},
          "execution_count": 30
        }
      ]
    },
    {
      "cell_type": "code",
      "source": [
        "data.edge_index_dict"
      ],
      "metadata": {
        "colab": {
          "base_uri": "https://localhost:8080/"
        },
        "id": "ShSDEzHb9qlX",
        "outputId": "047abc42-55b1-46cc-841d-787650ba3f9c"
      },
      "execution_count": null,
      "outputs": [
        {
          "output_type": "execute_result",
          "data": {
            "text/plain": [
              "{('author',\n",
              "  'affiliated_with',\n",
              "  'institution'): tensor([[      0,       1,       2,  ..., 1134645, 1134647, 1134648],\n",
              "         [    845,     996,    3197,  ...,    5189,    4668,    4668]],\n",
              "        device='cuda:0'),\n",
              " ('author',\n",
              "  'writes',\n",
              "  'paper'): tensor([[      0,       0,       0,  ..., 1134647, 1134648, 1134648],\n",
              "         [  19703,  289285,  311768,  ...,  657395,  671118,  719594]],\n",
              "        device='cuda:0'),\n",
              " ('field_of_study',\n",
              "  'rev_has_topic',\n",
              "  'paper'): tensor([[   145,   2215,   3205,  ...,  21458,  22283,  31934],\n",
              "         [     0,      0,      0,  ..., 736388, 736388, 736388]],\n",
              "        device='cuda:0'),\n",
              " ('institution',\n",
              "  'rev_affiliated_with',\n",
              "  'author'): tensor([[    845,     996,    3197,  ...,    5189,    4668,    4668],\n",
              "         [      0,       1,       2,  ..., 1134645, 1134647, 1134648]],\n",
              "        device='cuda:0'),\n",
              " ('paper',\n",
              "  'cites',\n",
              "  'paper'): tensor([[     0,      0,      0,  ..., 736388, 736388, 736388],\n",
              "         [    88,  27449, 121051,  ..., 707740, 732008, 732389]],\n",
              "        device='cuda:0'),\n",
              " ('paper',\n",
              "  'has_topic',\n",
              "  'field_of_study'): tensor([[     0,      0,      0,  ..., 736388, 736388, 736388],\n",
              "         [   145,   2215,   3205,  ...,  21458,  22283,  31934]],\n",
              "        device='cuda:0'),\n",
              " ('paper',\n",
              "  'rev_writes',\n",
              "  'author'): tensor([[  19703,  289285,  311768,  ...,  657395,  671118,  719594],\n",
              "         [      0,       0,       0,  ..., 1134647, 1134648, 1134648]],\n",
              "        device='cuda:0')}"
            ]
          },
          "metadata": {},
          "execution_count": 31
        }
      ]
    },
    {
      "cell_type": "code",
      "source": [
        ""
      ],
      "metadata": {
        "id": "nqr_dS7k9qoA"
      },
      "execution_count": null,
      "outputs": []
    },
    {
      "cell_type": "code",
      "source": [
        ""
      ],
      "metadata": {
        "id": "setPdR5r9qqU"
      },
      "execution_count": null,
      "outputs": []
    },
    {
      "cell_type": "code",
      "source": [
        ""
      ],
      "metadata": {
        "id": "PD-gA4KU9qsr"
      },
      "execution_count": null,
      "outputs": []
    },
    {
      "cell_type": "code",
      "source": [
        ""
      ],
      "metadata": {
        "id": "UOgo_nUa9qvB"
      },
      "execution_count": null,
      "outputs": []
    }
  ]
}